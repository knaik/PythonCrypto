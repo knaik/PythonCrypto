{
 "cells": [
  {
   "cell_type": "markdown",
   "metadata": {},
   "source": [
    "Cryptography"
   ]
  },
  {
   "cell_type": "code",
   "execution_count": 39,
   "metadata": {},
   "outputs": [
    {
     "name": "stdout",
     "output_type": "stream",
     "text": [
      "6 ^ 3 = 5\n",
      "110\n",
      "011\n",
      "101\n"
     ]
    }
   ],
   "source": [
    "#python xor \n",
    "#the xor operator is ^\n",
    "#1 and 1 = 0, 1 and 0 = 1, 0 and 1 = 1, 0 and 0 = 0\n",
    "\n",
    "print(\"6 ^ 3 =\" , 6 ^ 3)\n",
    "print(format(6, 'b'))\n",
    "print(format(3, '03b')) #print(format(3, 'b').zfill(3))\n",
    "print(format(5, 'b'))\n"
   ]
  }
 ],
 "metadata": {
  "kernelspec": {
   "display_name": "Python 3",
   "language": "python",
   "name": "python3"
  },
  "language_info": {
   "codemirror_mode": {
    "name": "ipython",
    "version": 3
   },
   "file_extension": ".py",
   "mimetype": "text/x-python",
   "name": "python",
   "nbconvert_exporter": "python",
   "pygments_lexer": "ipython3",
   "version": "3.7.6"
  }
 },
 "nbformat": 4,
 "nbformat_minor": 4
}
