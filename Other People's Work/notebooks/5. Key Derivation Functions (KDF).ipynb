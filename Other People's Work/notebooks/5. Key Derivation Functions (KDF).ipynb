{
 "cells": [
  {
   "cell_type": "markdown",
   "metadata": {},
   "source": [
    "# Key Derivation Functions (KDF)"
   ]
  },
  {
   "cell_type": "markdown",
   "metadata": {},
   "source": [
    "Key derivation is the process of producing one or more keys from a master key. The master key, can be password, passphrase, or a Diffie-Hellman negotiated shared key."
   ]
  },
  {
   "cell_type": "markdown",
   "metadata": {},
   "source": [
    "Let's propose our simple KDF as:\n",
    "\n",
    "$DK = HASH(password)$"
   ]
  },
  {
   "cell_type": "markdown",
   "metadata": {},
   "source": [
    "## *<font color=\" #6495ED\">Exercise</font>*\n",
    "\n",
    " - Why this KDF is not good?"
   ]
  },
  {
   "cell_type": "markdown",
   "metadata": {},
   "source": [
    "- There is no noise. Same password, produces same key. (add some randomness)\n",
    "- It's too fast to calculate, therefore easy to brute-force. (add iterations, use more expensive functions)"
   ]
  },
  {
   "cell_type": "markdown",
   "metadata": {},
   "source": [
    "$DK = KDF(password, salt, iterations)$"
   ]
  },
  {
   "cell_type": "markdown",
   "metadata": {},
   "source": [
    "## PBKDF2 (Password-Based Key Derivation Function 2)\n",
    "\n",
    "PBKDF2 is part of PKCS, and replaces the earlier PBKDF1. We need to pass a hashing function that will be used as the HMAC, number of iterations to mitigate brute-force attack, and a salt for rainbow tables."
   ]
  },
  {
   "cell_type": "markdown",
   "metadata": {},
   "source": [
    "$DK = PBKDF2(PRP, password, salt, iterations, keylen)$\n",
    "\n",
    "For example in your wireless communication a key is derived as the following:\n",
    "\n",
    "$Key = PBKDF2(HMAC−SHA1, passphrase, ssid, 4096, 256)$"
   ]
  },
  {
   "cell_type": "code",
   "execution_count": null,
   "metadata": {},
   "outputs": [],
   "source": [
    "import os\n",
    "from cryptography.hazmat.primitives import hashes\n",
    "from cryptography.hazmat.primitives.kdf.pbkdf2 import PBKDF2HMAC\n",
    "from cryptography.hazmat.backends import default_backend\n",
    "salt = os.urandom(16)\n",
    "\n",
    "# key derivation\n",
    "kdf = PBKDF2HMAC(\n",
    "    algorithm=hashes.SHA256(),\n",
    "    length=32,\n",
    "    salt=salt,\n",
    "    iterations=100000,\n",
    "    backend=default_backend())\n",
    "\n",
    "key = kdf.derive(b\"THE_SECRET_PASSWORD\")"
   ]
  },
  {
   "cell_type": "code",
   "execution_count": null,
   "metadata": {},
   "outputs": [],
   "source": [
    "import base64\n",
    "\n",
    "print(key, len(key))\n",
    "print(base64.b64encode(key))"
   ]
  },
  {
   "cell_type": "code",
   "execution_count": null,
   "metadata": {},
   "outputs": [],
   "source": [
    "# Key verification\n",
    "kdf = PBKDF2HMAC(\n",
    "    algorithm=hashes.SHA256(),\n",
    "    length=32,\n",
    "    salt=salt,\n",
    "    iterations=100000,\n",
    "    backend=default_backend())\n",
    "\n",
    "kdf.verify(b\"THE_SECRET_PASSWORD\", key)"
   ]
  },
  {
   "cell_type": "markdown",
   "metadata": {},
   "source": [
    "### Password Storage\n",
    "\n",
    "We can use *PBKDF2* for password storage as well. However, it is recommended to use [scrypt](http://www.tarsnap.com/scrypt.html) that requires large amount of memory instead of just high computation demand."
   ]
  }
 ],
 "metadata": {
  "kernelspec": {
   "display_name": "Python 3",
   "language": "python",
   "name": "python3"
  },
  "language_info": {
   "codemirror_mode": {
    "name": "ipython",
    "version": 3
   },
   "file_extension": ".py",
   "mimetype": "text/x-python",
   "name": "python",
   "nbconvert_exporter": "python",
   "pygments_lexer": "ipython3",
   "version": "3.7.3"
  }
 },
 "nbformat": 4,
 "nbformat_minor": 2
}
