{
 "cells": [
  {
   "cell_type": "markdown",
   "metadata": {},
   "source": [
    "# Applied cryptography with Python"
   ]
  },
  {
   "cell_type": "markdown",
   "metadata": {},
   "source": [
    " - Cryptography is ubiquitous today\n",
    " - From mobile phones to wireless communication\n",
    " - Supported in almost every programming language \n",
    " - It is even embedded in the CPUs\n",
    " - It is not hard to do crypto right but...\n",
    " \n",
    " <img src=\"include/crypto_failures.png\" width=\"750\">"
   ]
  },
  {
   "cell_type": "markdown",
   "metadata": {},
   "source": [
    "We will look at the basic blocks of modern crypto using Python. There are a number of crypto libraries in Python:\n",
    "\n",
    " - **pycrypto** (oldest and most widely used)\n",
    " - **m2crypto** (SWIG binding)\n",
    " - **cryptography** (PY2, PY3, PyPy, OpenSSL CFFI binding)\n",
    "\n",
    "\n",
    "We will use the cryptography library. You can download the library from [here](https://cryptography.io/) and follow the instructions. You should be able to install the library using the following command. You need to have pip installed. \n",
    "\n",
    "```bash\n",
    "pip install cryptography\n",
    "```\n",
    "\n",
    "To install pip, follow the instructions [here](https://pip.pypa.io/)"
   ]
  },
  {
   "cell_type": "markdown",
   "metadata": {},
   "source": [
    "## Cyrptography.io\n",
    "Cryptography components are divided into different submodules. Following is a list of these submodules (not exhaustive)\n",
    "\n",
    "* Primitive Crypto Blocks (*cryptography.hazmat*)\n",
    " * Message Digest and Hashing algorithms (*cryptography.hazmat.primitives.hashes*)\n",
    " * Symmetric encryption algorithms (*cryptography.hazmat.primitives.ciphers*)\n",
    " * Asymmetric encryption algorithms (*cryptography.hazmat.primitives.asymmetric*)\n",
    " * Key derivation functions (*cryptography.hazmat.primitives.kdf*)\n",
    "* X.509 Ecosystem (*cryptography.x509*)\n",
    "* Full high level crypto recipe (*cryptography.fernet*)"
   ]
  }
 ],
 "metadata": {
  "kernelspec": {
   "display_name": "Python 3",
   "language": "python",
   "name": "python3"
  },
  "language_info": {
   "codemirror_mode": {
    "name": "ipython",
    "version": 3
   },
   "file_extension": ".py",
   "mimetype": "text/x-python",
   "name": "python",
   "nbconvert_exporter": "python",
   "pygments_lexer": "ipython3",
   "version": "3.7.6"
  }
 },
 "nbformat": 4,
 "nbformat_minor": 4
}
