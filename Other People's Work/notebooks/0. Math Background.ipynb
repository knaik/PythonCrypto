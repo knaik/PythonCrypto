{
 "cells": [
  {
   "cell_type": "markdown",
   "metadata": {},
   "source": [
    "# Math Background"
   ]
  },
  {
   "cell_type": "markdown",
   "metadata": {},
   "source": [
    "Here we shortly review some math background. Namely, exponentiation, logarithm, xor, and modulo."
   ]
  },
  {
   "cell_type": "markdown",
   "metadata": {},
   "source": [
    "## XOR"
   ]
  },
  {
   "cell_type": "markdown",
   "metadata": {},
   "source": [
    "XOR or exclusive or, is one of the widely used logic operators, specially in cryptography. It is usually shown with ⊕. XOR is a binary operator and the value of operation is 1, when only one of the operands is 1.\n",
    "\n",
    "   - $ 1 \\oplus 1 = 0 $ \n",
    "   - $ 0 \\oplus 0 = 0 $\n",
    "   - $ 1 \\oplus 0 = 1 $\n",
    "   - $ 0 \\oplus 1 = 1 $\n",
    "\n",
    "\n"
   ]
  },
  {
   "cell_type": "markdown",
   "metadata": {},
   "source": [
    "## Modulo"
   ]
  },
  {
   "cell_type": "markdown",
   "metadata": {},
   "source": [
    "Module operation gives us the remainder of division. We use *mod* or *%* as notation.\n",
    "\n",
    "    a = b * n + c\n",
    "    a % b = c\n",
    "    a % n = c\n",
    "    \n",
    "  - $(a * b) \\mod n = (a \\mod n * b \\mod n) \\mod n$\n",
    "  - $(a + b) \\mod n = (a \\mod n + b \\mod n) \\mod n$\n",
    "  \n",
    "A few numerical examples:\n",
    "\n",
    "  - $3 \\mod 5 = 3$\n",
    "  - $7 \\mod 5 = 2$\n",
    "  - $42 \\mod 5 = (6 \\mod 5 * 7 \\mod 5 ) = (1 * 2 \\mod 5) = 2$"
   ]
  },
  {
   "cell_type": "markdown",
   "metadata": {},
   "source": [
    "## Exponentiation"
   ]
  },
  {
   "cell_type": "markdown",
   "metadata": {},
   "source": [
    "Exponentiation is a mathematical operation involving two numbers, represented as $b^n$. Where b is the base, and n is power or exponent. It simply translates into multiplying $b$, $n$ times by it self.\n",
    "\n",
    "$2 ^ 3$ = 2 \\* 2 \\* 2"
   ]
  },
  {
   "cell_type": "markdown",
   "metadata": {},
   "source": [
    "## Logarithm"
   ]
  },
  {
   "cell_type": "markdown",
   "metadata": {},
   "source": [
    "Logarithm is the inverse operation of exponentiation. If $a = b^n$, then $ \\log_b a$, is to find how many times the base ($b$), needs to be mulitplied by itself to produce $a$.\n",
    "\n",
    "If $a = 16 = 2^4$, then:\n",
    "\n",
    "$log_2 16 = 4$ "
   ]
  }
 ],
 "metadata": {
  "kernelspec": {
   "display_name": "Python 3",
   "language": "python",
   "name": "python3"
  },
  "language_info": {
   "codemirror_mode": {
    "name": "ipython",
    "version": 3
   },
   "file_extension": ".py",
   "mimetype": "text/x-python",
   "name": "python",
   "nbconvert_exporter": "python",
   "pygments_lexer": "ipython3",
   "version": "3.7.6"
  }
 },
 "nbformat": 4,
 "nbformat_minor": 4
}
