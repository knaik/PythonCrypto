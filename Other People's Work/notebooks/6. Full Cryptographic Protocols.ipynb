{
 "cells": [
  {
   "cell_type": "markdown",
   "metadata": {},
   "source": [
    "# Cryptographic Protocols"
   ]
  },
  {
   "cell_type": "markdown",
   "metadata": {},
   "source": [
    "Transport Layer Security (TLS) and Pretty Good Privacy (PGP) are examples of cryptographic protocols that combine the cryptographic primitives that we learned about in previous sections."
   ]
  },
  {
   "cell_type": "markdown",
   "metadata": {},
   "source": [
    "# Transport Layer Security (TLS)\n",
    "\n",
    "TLS Formerly known as Secure Sockets Layer (SSL) is a cryptographic protocol suite to secure data in transfer. It is widely used over internet with different protocols such as HTTP, FTP, SMTP, etc. Different cipher suites provides variety of security protection services based on the users' needs.\n",
    "\n",
    "<img src=\"include/tls_http.png\" width=800>"
   ]
  },
  {
   "cell_type": "markdown",
   "metadata": {},
   "source": [
    "# Pretty Good Privacy (PGP)\n",
    "\n",
    " - A data encryption/decryption tool\n",
    " - Can be used to encrypt and authenticat email, files, etc.\n",
    " - Created by Phil Zimmermann in 1991\n",
    " - A practical hybrid system that uses symmetric and asymmetric crypto\n",
    "\n",
    "<img src=\"include/PGP_diagram.png\" width=500>\n",
    "\n",
    "image source: wikipedia"
   ]
  },
  {
   "cell_type": "markdown",
   "metadata": {},
   "source": [
    "## *<font color=\" #6495ED\">Exercise</font>*\n",
    "\n",
    " - Implement PGP to encrypt some content as shown in the diagram above. Use AES in GCM mode."
   ]
  },
  {
   "cell_type": "markdown",
   "metadata": {},
   "source": [
    " - def enc_key(public_key, message)\n",
    " - def dec_key(private_key, ciphertext)\n",
    " - def enc_msg(key, iv, msg)\n",
    " - def dec_msg(key, iv, tag, ciphertext)"
   ]
  },
  {
   "cell_type": "markdown",
   "metadata": {},
   "source": [
    "## *<font color=\" #b74138\">Solution</font>*"
   ]
  },
  {
   "cell_type": "code",
   "execution_count": null,
   "metadata": {},
   "outputs": [],
   "source": []
  }
 ],
 "metadata": {
  "kernelspec": {
   "display_name": "Python 3",
   "language": "python",
   "name": "python3"
  },
  "language_info": {
   "codemirror_mode": {
    "name": "ipython",
    "version": 3
   },
   "file_extension": ".py",
   "mimetype": "text/x-python",
   "name": "python",
   "nbconvert_exporter": "python",
   "pygments_lexer": "ipython3",
   "version": "3.7.6"
  }
 },
 "nbformat": 4,
 "nbformat_minor": 4
}
