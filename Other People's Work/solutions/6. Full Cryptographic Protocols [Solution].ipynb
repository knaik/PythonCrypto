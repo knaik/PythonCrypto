{
 "cells": [
  {
   "cell_type": "markdown",
   "metadata": {},
   "source": [
    "# Cryptographic Protocols"
   ]
  },
  {
   "cell_type": "markdown",
   "metadata": {},
   "source": [
    "Transport Layer Security (TLS) and Pretty Good Privacy (PGP) are examples of cryptographic protocols that combine the cryptographic primitives that we learned about in previous sections."
   ]
  },
  {
   "cell_type": "markdown",
   "metadata": {},
   "source": [
    "# Transport Layer Security (TLS)\n",
    "\n",
    "TLS Formerly known as Secure Sockets Layer (SSL) is a cryptographic protocol suite to secure data in transfer. It is widely used over internet with different protocols such as HTTP, FTP, SMTP, etc. Different cipher suites provides variety of security protection services based on the users' needs.\n",
    "\n",
    "<img src=\"include/tls_http.png\" width=800>"
   ]
  },
  {
   "cell_type": "markdown",
   "metadata": {},
   "source": [
    "# Pretty Good Privacy (PGP)\n",
    "\n",
    " - A data encryption/decryption tool\n",
    " - Can be used to encrypt and authenticat email, files, etc.\n",
    " - Created by Phil Zimmermann in 1991\n",
    " - A practical hybrid system that uses symmetric and asymmetric crypto\n",
    "\n",
    "<img src=\"include/PGP_diagram.png\" width=500>\n",
    "\n",
    "image source: wikipedia"
   ]
  },
  {
   "cell_type": "markdown",
   "metadata": {},
   "source": [
    "## *<font color=\" #6495ED\">Exercise</font>*\n",
    "\n",
    " - Implement PGP to encrypt some content as shown in the diagram above. Use AES in GCM mode."
   ]
  },
  {
   "cell_type": "markdown",
   "metadata": {},
   "source": [
    " - def enc_key(public_key, message)\n",
    " - def dec_key(private_key, ciphertext)\n",
    " - def enc_msg(key, iv, msg)\n",
    " - def dec_msg(key, iv, tag, ciphertext)"
   ]
  },
  {
   "cell_type": "markdown",
   "metadata": {},
   "source": [
    "## *<font color=\" #b74138\">Solution</font>*"
   ]
  },
  {
   "cell_type": "code",
   "execution_count": 1,
   "metadata": {},
   "outputs": [],
   "source": [
    "import os\n",
    "from cryptography.hazmat.backends import default_backend\n",
    "from cryptography.hazmat.primitives.ciphers import Cipher, algorithms, modes\n",
    "from cryptography.hazmat.primitives import hashes\n",
    "from cryptography.hazmat.primitives.asymmetric import padding\n",
    "from cryptography.hazmat.primitives.asymmetric import rsa\n",
    "\n",
    "private_key = rsa.generate_private_key(\n",
    "    public_exponent=65537,\n",
    "    key_size=2048,\n",
    "    backend=default_backend())\n",
    "\n",
    "public_key = private_key.public_key()\n",
    "\n",
    "def enc_key(public_key, message):\n",
    "    ciphertext = public_key.encrypt(\n",
    "        message,\n",
    "        padding.OAEP(\n",
    "            mgf=padding.MGF1(algorithm=hashes.SHA1()),\n",
    "            algorithm=hashes.SHA1(),\n",
    "            label=None))\n",
    "    return ciphertext\n",
    "\n",
    "def dec_key(private_key, ciphertext):\n",
    "    plaintext = private_key.decrypt(\n",
    "        ciphertext,\n",
    "        padding.OAEP(\n",
    "            mgf=padding.MGF1(algorithm=hashes.SHA1()),\n",
    "            algorithm=hashes.SHA1(),\n",
    "            label=None))\n",
    "    return plaintext\n",
    "\n",
    "def enc_msg(key, iv, msg):\n",
    "    cipher = Cipher(algorithms.AES(key), modes.GCM(iv), backend=default_backend())\n",
    "    encryptor = cipher.encryptor()\n",
    "    cipher_text = encryptor.update(msg) + encryptor.finalize()\n",
    "    return cipher_text, encryptor.tag\n",
    "\n",
    "def dec_msg(key, iv, tag, ciphertext):\n",
    "    cipher = Cipher(algorithms.AES(key), modes.GCM(iv, tag), backend=default_backend())\n",
    "    decryptor = cipher.decryptor()\n",
    "    plaintext = decryptor.update(ciphertext) + decryptor.finalize()\n",
    "    return plaintext"
   ]
  },
  {
   "cell_type": "code",
   "execution_count": 2,
   "metadata": {},
   "outputs": [],
   "source": [
    "k1 = os.urandom(16)\n",
    "iv = os.urandom(16)\n",
    "msg = b\"O'Reilly Applied Cryptography with Python 2019\"\n",
    "\n",
    "cipher, tag = enc_msg(k1, iv, msg)\n",
    "encrypted_key = enc_key(public_key, k1)\n",
    "\n",
    "decrypted_key = dec_key(private_key, encrypted_key)\n",
    "plaintext = dec_msg(decrypted_key, iv, tag, cipher)"
   ]
  },
  {
   "cell_type": "code",
   "execution_count": 3,
   "metadata": {},
   "outputs": [
    {
     "name": "stdout",
     "output_type": "stream",
     "text": [
      "b\"O'Reilly Applied Cryptography with Python 2019\"\n"
     ]
    }
   ],
   "source": [
    "print(plaintext)"
   ]
  }
 ],
 "metadata": {
  "kernelspec": {
   "display_name": "Python 3",
   "language": "python",
   "name": "python3"
  },
  "language_info": {
   "codemirror_mode": {
    "name": "ipython",
    "version": 3
   },
   "file_extension": ".py",
   "mimetype": "text/x-python",
   "name": "python",
   "nbconvert_exporter": "python",
   "pygments_lexer": "ipython3",
   "version": "3.7.3"
  }
 },
 "nbformat": 4,
 "nbformat_minor": 2
}
